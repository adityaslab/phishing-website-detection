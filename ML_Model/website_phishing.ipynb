{
  "cells": [
    {
      "cell_type": "code",
      "execution_count": 10,
      "metadata": {
        "id": "HayfGEmxLKV3"
      },
      "outputs": [],
      "source": [
        "import pandas as pd\n",
        "import numpy as np"
      ]
    },
    {
      "cell_type": "code",
      "execution_count": 11,
      "metadata": {
        "id": "RYnlcYxXLKV5"
      },
      "outputs": [],
      "source": [
        "df=pd.read_csv(\"phishing.csv\")"
      ]
    },
    {
      "cell_type": "code",
      "execution_count": 12,
      "metadata": {
        "colab": {
          "base_uri": "https://localhost:8080/",
          "height": 299
        },
        "id": "rIfVcVPALKV5",
        "outputId": "6d38b782-0dc3-47c6-efde-957834dcd35d"
      },
      "outputs": [
        {
          "data": {
            "text/html": [
              "<div>\n",
              "<style scoped>\n",
              "    .dataframe tbody tr th:only-of-type {\n",
              "        vertical-align: middle;\n",
              "    }\n",
              "\n",
              "    .dataframe tbody tr th {\n",
              "        vertical-align: top;\n",
              "    }\n",
              "\n",
              "    .dataframe thead th {\n",
              "        text-align: right;\n",
              "    }\n",
              "</style>\n",
              "<table border=\"1\" class=\"dataframe\">\n",
              "  <thead>\n",
              "    <tr style=\"text-align: right;\">\n",
              "      <th></th>\n",
              "      <th>Index</th>\n",
              "      <th>UsingIP</th>\n",
              "      <th>LongURL</th>\n",
              "      <th>ShortURL</th>\n",
              "      <th>Symbol@</th>\n",
              "      <th>Redirecting//</th>\n",
              "      <th>PrefixSuffix-</th>\n",
              "      <th>SubDomains</th>\n",
              "      <th>HTTPS</th>\n",
              "      <th>DomainRegLen</th>\n",
              "      <th>...</th>\n",
              "      <th>UsingPopupWindow</th>\n",
              "      <th>IframeRedirection</th>\n",
              "      <th>AgeofDomain</th>\n",
              "      <th>DNSRecording</th>\n",
              "      <th>WebsiteTraffic</th>\n",
              "      <th>PageRank</th>\n",
              "      <th>GoogleIndex</th>\n",
              "      <th>LinksPointingToPage</th>\n",
              "      <th>StatsReport</th>\n",
              "      <th>class</th>\n",
              "    </tr>\n",
              "  </thead>\n",
              "  <tbody>\n",
              "    <tr>\n",
              "      <th>0</th>\n",
              "      <td>0</td>\n",
              "      <td>1</td>\n",
              "      <td>1</td>\n",
              "      <td>1</td>\n",
              "      <td>1</td>\n",
              "      <td>1</td>\n",
              "      <td>-1</td>\n",
              "      <td>0</td>\n",
              "      <td>1</td>\n",
              "      <td>-1</td>\n",
              "      <td>...</td>\n",
              "      <td>1</td>\n",
              "      <td>1</td>\n",
              "      <td>-1</td>\n",
              "      <td>-1</td>\n",
              "      <td>0</td>\n",
              "      <td>-1</td>\n",
              "      <td>1</td>\n",
              "      <td>1</td>\n",
              "      <td>1</td>\n",
              "      <td>-1</td>\n",
              "    </tr>\n",
              "    <tr>\n",
              "      <th>1</th>\n",
              "      <td>1</td>\n",
              "      <td>1</td>\n",
              "      <td>0</td>\n",
              "      <td>1</td>\n",
              "      <td>1</td>\n",
              "      <td>1</td>\n",
              "      <td>-1</td>\n",
              "      <td>-1</td>\n",
              "      <td>-1</td>\n",
              "      <td>-1</td>\n",
              "      <td>...</td>\n",
              "      <td>1</td>\n",
              "      <td>1</td>\n",
              "      <td>1</td>\n",
              "      <td>-1</td>\n",
              "      <td>1</td>\n",
              "      <td>-1</td>\n",
              "      <td>1</td>\n",
              "      <td>0</td>\n",
              "      <td>-1</td>\n",
              "      <td>-1</td>\n",
              "    </tr>\n",
              "    <tr>\n",
              "      <th>2</th>\n",
              "      <td>2</td>\n",
              "      <td>1</td>\n",
              "      <td>0</td>\n",
              "      <td>1</td>\n",
              "      <td>1</td>\n",
              "      <td>1</td>\n",
              "      <td>-1</td>\n",
              "      <td>-1</td>\n",
              "      <td>-1</td>\n",
              "      <td>1</td>\n",
              "      <td>...</td>\n",
              "      <td>1</td>\n",
              "      <td>1</td>\n",
              "      <td>-1</td>\n",
              "      <td>-1</td>\n",
              "      <td>1</td>\n",
              "      <td>-1</td>\n",
              "      <td>1</td>\n",
              "      <td>-1</td>\n",
              "      <td>1</td>\n",
              "      <td>-1</td>\n",
              "    </tr>\n",
              "    <tr>\n",
              "      <th>3</th>\n",
              "      <td>3</td>\n",
              "      <td>1</td>\n",
              "      <td>0</td>\n",
              "      <td>-1</td>\n",
              "      <td>1</td>\n",
              "      <td>1</td>\n",
              "      <td>-1</td>\n",
              "      <td>1</td>\n",
              "      <td>1</td>\n",
              "      <td>-1</td>\n",
              "      <td>...</td>\n",
              "      <td>-1</td>\n",
              "      <td>1</td>\n",
              "      <td>-1</td>\n",
              "      <td>-1</td>\n",
              "      <td>0</td>\n",
              "      <td>-1</td>\n",
              "      <td>1</td>\n",
              "      <td>1</td>\n",
              "      <td>1</td>\n",
              "      <td>1</td>\n",
              "    </tr>\n",
              "    <tr>\n",
              "      <th>4</th>\n",
              "      <td>4</td>\n",
              "      <td>-1</td>\n",
              "      <td>0</td>\n",
              "      <td>-1</td>\n",
              "      <td>1</td>\n",
              "      <td>-1</td>\n",
              "      <td>-1</td>\n",
              "      <td>1</td>\n",
              "      <td>1</td>\n",
              "      <td>-1</td>\n",
              "      <td>...</td>\n",
              "      <td>1</td>\n",
              "      <td>1</td>\n",
              "      <td>1</td>\n",
              "      <td>1</td>\n",
              "      <td>1</td>\n",
              "      <td>-1</td>\n",
              "      <td>1</td>\n",
              "      <td>-1</td>\n",
              "      <td>-1</td>\n",
              "      <td>1</td>\n",
              "    </tr>\n",
              "  </tbody>\n",
              "</table>\n",
              "<p>5 rows × 32 columns</p>\n",
              "</div>"
            ],
            "text/plain": [
              "   Index  UsingIP  LongURL  ShortURL  Symbol@  Redirecting//  PrefixSuffix-  \\\n",
              "0      0        1        1         1        1              1             -1   \n",
              "1      1        1        0         1        1              1             -1   \n",
              "2      2        1        0         1        1              1             -1   \n",
              "3      3        1        0        -1        1              1             -1   \n",
              "4      4       -1        0        -1        1             -1             -1   \n",
              "\n",
              "   SubDomains  HTTPS  DomainRegLen  ...  UsingPopupWindow  IframeRedirection  \\\n",
              "0           0      1            -1  ...                 1                  1   \n",
              "1          -1     -1            -1  ...                 1                  1   \n",
              "2          -1     -1             1  ...                 1                  1   \n",
              "3           1      1            -1  ...                -1                  1   \n",
              "4           1      1            -1  ...                 1                  1   \n",
              "\n",
              "   AgeofDomain  DNSRecording  WebsiteTraffic  PageRank  GoogleIndex  \\\n",
              "0           -1            -1               0        -1            1   \n",
              "1            1            -1               1        -1            1   \n",
              "2           -1            -1               1        -1            1   \n",
              "3           -1            -1               0        -1            1   \n",
              "4            1             1               1        -1            1   \n",
              "\n",
              "   LinksPointingToPage  StatsReport  class  \n",
              "0                    1            1     -1  \n",
              "1                    0           -1     -1  \n",
              "2                   -1            1     -1  \n",
              "3                    1            1      1  \n",
              "4                   -1           -1      1  \n",
              "\n",
              "[5 rows x 32 columns]"
            ]
          },
          "execution_count": 12,
          "metadata": {},
          "output_type": "execute_result"
        }
      ],
      "source": [
        "df.head()"
      ]
    },
    {
      "cell_type": "code",
      "execution_count": 13,
      "metadata": {},
      "outputs": [
        {
          "name": "stdout",
          "output_type": "stream",
          "text": [
            "(11054, 32)\n",
            "(11054, 32)\n",
            "Column 'Index' contains 11054 unique values:\n",
            "[    0     1     2 ... 11051 11052 11053]\n",
            "Column 'UsingIP' contains 2 unique values:\n",
            "[ 1 -1]\n",
            "Column 'LongURL' contains 3 unique values:\n",
            "[ 1  0 -1]\n",
            "Column 'ShortURL' contains 2 unique values:\n",
            "[ 1 -1]\n",
            "Column 'Symbol@' contains 2 unique values:\n",
            "[ 1 -1]\n",
            "Column 'Redirecting//' contains 2 unique values:\n",
            "[ 1 -1]\n",
            "Column 'PrefixSuffix-' contains 2 unique values:\n",
            "[-1  1]\n",
            "Column 'SubDomains' contains 3 unique values:\n",
            "[ 0 -1  1]\n",
            "Column 'HTTPS' contains 3 unique values:\n",
            "[ 1 -1  0]\n",
            "Column 'DomainRegLen' contains 2 unique values:\n",
            "[-1  1]\n",
            "Column 'Favicon' contains 2 unique values:\n",
            "[ 1 -1]\n",
            "Column 'NonStdPort' contains 2 unique values:\n",
            "[ 1 -1]\n",
            "Column 'HTTPSDomainURL' contains 2 unique values:\n",
            "[-1  1]\n",
            "Column 'RequestURL' contains 2 unique values:\n",
            "[ 1 -1]\n",
            "Column 'AnchorURL' contains 3 unique values:\n",
            "[ 0 -1  1]\n",
            "Column 'LinksInScriptTags' contains 3 unique values:\n",
            "[-1  0  1]\n",
            "Column 'ServerFormHandler' contains 3 unique values:\n",
            "[-1  1  0]\n",
            "Column 'InfoEmail' contains 2 unique values:\n",
            "[ 1 -1]\n",
            "Column 'AbnormalURL' contains 2 unique values:\n",
            "[ 1 -1]\n",
            "Column 'WebsiteForwarding' contains 2 unique values:\n",
            "[0 1]\n",
            "Column 'StatusBarCust' contains 2 unique values:\n",
            "[ 1 -1]\n",
            "Column 'DisableRightClick' contains 2 unique values:\n",
            "[ 1 -1]\n",
            "Column 'UsingPopupWindow' contains 2 unique values:\n",
            "[ 1 -1]\n",
            "Column 'IframeRedirection' contains 2 unique values:\n",
            "[ 1 -1]\n",
            "Column 'AgeofDomain' contains 2 unique values:\n",
            "[-1  1]\n",
            "Column 'DNSRecording' contains 2 unique values:\n",
            "[-1  1]\n",
            "Column 'WebsiteTraffic' contains 3 unique values:\n",
            "[ 0  1 -1]\n",
            "Column 'PageRank' contains 2 unique values:\n",
            "[-1  1]\n",
            "Column 'GoogleIndex' contains 2 unique values:\n",
            "[ 1 -1]\n",
            "Column 'LinksPointingToPage' contains 3 unique values:\n",
            "[ 1  0 -1]\n",
            "Column 'StatsReport' contains 2 unique values:\n",
            "[ 1 -1]\n",
            "Column 'class' contains 2 unique values:\n",
            "[-1  1]\n"
          ]
        }
      ],
      "source": [
        "print(df.shape)\n",
        "unique_df = df.drop_duplicates()\n",
        "print(unique_df.shape)\n",
        "\n",
        "for col in df.columns:\n",
        "    print(f\"Column '{col}' contains {df[col].nunique()} unique values:\")\n",
        "    print(df[col].unique())\n"
      ]
    },
    {
      "cell_type": "code",
      "execution_count": 14,
      "metadata": {
        "colab": {
          "base_uri": "https://localhost:8080/"
        },
        "id": "jUxtuBFoLKV5",
        "outputId": "949eef3d-eb0a-4ef3-b098-b61aab6b6d6f"
      },
      "outputs": [
        {
          "data": {
            "text/plain": [
              "Index(['Index', 'UsingIP', 'LongURL', 'ShortURL', 'Symbol@', 'Redirecting//',\n",
              "       'PrefixSuffix-', 'SubDomains', 'HTTPS', 'DomainRegLen', 'Favicon',\n",
              "       'NonStdPort', 'HTTPSDomainURL', 'RequestURL', 'AnchorURL',\n",
              "       'LinksInScriptTags', 'ServerFormHandler', 'InfoEmail', 'AbnormalURL',\n",
              "       'WebsiteForwarding', 'StatusBarCust', 'DisableRightClick',\n",
              "       'UsingPopupWindow', 'IframeRedirection', 'AgeofDomain', 'DNSRecording',\n",
              "       'WebsiteTraffic', 'PageRank', 'GoogleIndex', 'LinksPointingToPage',\n",
              "       'StatsReport', 'class'],\n",
              "      dtype='object')"
            ]
          },
          "execution_count": 14,
          "metadata": {},
          "output_type": "execute_result"
        }
      ],
      "source": [
        "df.columns"
      ]
    },
    {
      "cell_type": "code",
      "execution_count": 15,
      "metadata": {
        "colab": {
          "base_uri": "https://localhost:8080/"
        },
        "id": "UoQ2_YelLKV6",
        "outputId": "a2bd9478-90ee-49ee-931b-f6df4bf6b002"
      },
      "outputs": [
        {
          "data": {
            "text/plain": [
              "(11054, 32)"
            ]
          },
          "execution_count": 15,
          "metadata": {},
          "output_type": "execute_result"
        }
      ],
      "source": [
        "df.shape #dimensions of data"
      ]
    },
    {
      "cell_type": "code",
      "execution_count": 16,
      "metadata": {
        "colab": {
          "base_uri": "https://localhost:8080/"
        },
        "id": "NYIMQGYILKV6",
        "outputId": "0bf2c39d-0382-4d88-ebd1-02bfb63a0093"
      },
      "outputs": [
        {
          "data": {
            "text/plain": [
              "Index                  0\n",
              "UsingIP                0\n",
              "LongURL                0\n",
              "ShortURL               0\n",
              "Symbol@                0\n",
              "Redirecting//          0\n",
              "PrefixSuffix-          0\n",
              "SubDomains             0\n",
              "HTTPS                  0\n",
              "DomainRegLen           0\n",
              "Favicon                0\n",
              "NonStdPort             0\n",
              "HTTPSDomainURL         0\n",
              "RequestURL             0\n",
              "AnchorURL              0\n",
              "LinksInScriptTags      0\n",
              "ServerFormHandler      0\n",
              "InfoEmail              0\n",
              "AbnormalURL            0\n",
              "WebsiteForwarding      0\n",
              "StatusBarCust          0\n",
              "DisableRightClick      0\n",
              "UsingPopupWindow       0\n",
              "IframeRedirection      0\n",
              "AgeofDomain            0\n",
              "DNSRecording           0\n",
              "WebsiteTraffic         0\n",
              "PageRank               0\n",
              "GoogleIndex            0\n",
              "LinksPointingToPage    0\n",
              "StatsReport            0\n",
              "class                  0\n",
              "dtype: int64"
            ]
          },
          "execution_count": 16,
          "metadata": {},
          "output_type": "execute_result"
        }
      ],
      "source": [
        "df.isnull().sum() #checking for null values"
      ]
    },
    {
      "cell_type": "code",
      "execution_count": 17,
      "metadata": {
        "id": "I9QvENfbLKV6"
      },
      "outputs": [],
      "source": [
        "from sklearn.model_selection import train_test_split,cross_val_score"
      ]
    },
    {
      "cell_type": "code",
      "execution_count": 18,
      "metadata": {
        "colab": {
          "base_uri": "https://localhost:8080/",
          "height": 299
        },
        "id": "V2gvew2yLKV6",
        "outputId": "1baed621-245c-4a98-9837-054cf4fb419b"
      },
      "outputs": [
        {
          "data": {
            "text/html": [
              "<div>\n",
              "<style scoped>\n",
              "    .dataframe tbody tr th:only-of-type {\n",
              "        vertical-align: middle;\n",
              "    }\n",
              "\n",
              "    .dataframe tbody tr th {\n",
              "        vertical-align: top;\n",
              "    }\n",
              "\n",
              "    .dataframe thead th {\n",
              "        text-align: right;\n",
              "    }\n",
              "</style>\n",
              "<table border=\"1\" class=\"dataframe\">\n",
              "  <thead>\n",
              "    <tr style=\"text-align: right;\">\n",
              "      <th></th>\n",
              "      <th>UsingIP</th>\n",
              "      <th>LongURL</th>\n",
              "      <th>ShortURL</th>\n",
              "      <th>Symbol@</th>\n",
              "      <th>Redirecting//</th>\n",
              "      <th>PrefixSuffix-</th>\n",
              "      <th>SubDomains</th>\n",
              "      <th>HTTPS</th>\n",
              "      <th>DomainRegLen</th>\n",
              "      <th>Favicon</th>\n",
              "      <th>...</th>\n",
              "      <th>DisableRightClick</th>\n",
              "      <th>UsingPopupWindow</th>\n",
              "      <th>IframeRedirection</th>\n",
              "      <th>AgeofDomain</th>\n",
              "      <th>DNSRecording</th>\n",
              "      <th>WebsiteTraffic</th>\n",
              "      <th>PageRank</th>\n",
              "      <th>GoogleIndex</th>\n",
              "      <th>LinksPointingToPage</th>\n",
              "      <th>StatsReport</th>\n",
              "    </tr>\n",
              "  </thead>\n",
              "  <tbody>\n",
              "    <tr>\n",
              "      <th>0</th>\n",
              "      <td>1</td>\n",
              "      <td>1</td>\n",
              "      <td>1</td>\n",
              "      <td>1</td>\n",
              "      <td>1</td>\n",
              "      <td>-1</td>\n",
              "      <td>0</td>\n",
              "      <td>1</td>\n",
              "      <td>-1</td>\n",
              "      <td>1</td>\n",
              "      <td>...</td>\n",
              "      <td>1</td>\n",
              "      <td>1</td>\n",
              "      <td>1</td>\n",
              "      <td>-1</td>\n",
              "      <td>-1</td>\n",
              "      <td>0</td>\n",
              "      <td>-1</td>\n",
              "      <td>1</td>\n",
              "      <td>1</td>\n",
              "      <td>1</td>\n",
              "    </tr>\n",
              "    <tr>\n",
              "      <th>1</th>\n",
              "      <td>1</td>\n",
              "      <td>0</td>\n",
              "      <td>1</td>\n",
              "      <td>1</td>\n",
              "      <td>1</td>\n",
              "      <td>-1</td>\n",
              "      <td>-1</td>\n",
              "      <td>-1</td>\n",
              "      <td>-1</td>\n",
              "      <td>1</td>\n",
              "      <td>...</td>\n",
              "      <td>1</td>\n",
              "      <td>1</td>\n",
              "      <td>1</td>\n",
              "      <td>1</td>\n",
              "      <td>-1</td>\n",
              "      <td>1</td>\n",
              "      <td>-1</td>\n",
              "      <td>1</td>\n",
              "      <td>0</td>\n",
              "      <td>-1</td>\n",
              "    </tr>\n",
              "    <tr>\n",
              "      <th>2</th>\n",
              "      <td>1</td>\n",
              "      <td>0</td>\n",
              "      <td>1</td>\n",
              "      <td>1</td>\n",
              "      <td>1</td>\n",
              "      <td>-1</td>\n",
              "      <td>-1</td>\n",
              "      <td>-1</td>\n",
              "      <td>1</td>\n",
              "      <td>1</td>\n",
              "      <td>...</td>\n",
              "      <td>1</td>\n",
              "      <td>1</td>\n",
              "      <td>1</td>\n",
              "      <td>-1</td>\n",
              "      <td>-1</td>\n",
              "      <td>1</td>\n",
              "      <td>-1</td>\n",
              "      <td>1</td>\n",
              "      <td>-1</td>\n",
              "      <td>1</td>\n",
              "    </tr>\n",
              "    <tr>\n",
              "      <th>3</th>\n",
              "      <td>1</td>\n",
              "      <td>0</td>\n",
              "      <td>-1</td>\n",
              "      <td>1</td>\n",
              "      <td>1</td>\n",
              "      <td>-1</td>\n",
              "      <td>1</td>\n",
              "      <td>1</td>\n",
              "      <td>-1</td>\n",
              "      <td>1</td>\n",
              "      <td>...</td>\n",
              "      <td>1</td>\n",
              "      <td>-1</td>\n",
              "      <td>1</td>\n",
              "      <td>-1</td>\n",
              "      <td>-1</td>\n",
              "      <td>0</td>\n",
              "      <td>-1</td>\n",
              "      <td>1</td>\n",
              "      <td>1</td>\n",
              "      <td>1</td>\n",
              "    </tr>\n",
              "    <tr>\n",
              "      <th>4</th>\n",
              "      <td>-1</td>\n",
              "      <td>0</td>\n",
              "      <td>-1</td>\n",
              "      <td>1</td>\n",
              "      <td>-1</td>\n",
              "      <td>-1</td>\n",
              "      <td>1</td>\n",
              "      <td>1</td>\n",
              "      <td>-1</td>\n",
              "      <td>1</td>\n",
              "      <td>...</td>\n",
              "      <td>1</td>\n",
              "      <td>1</td>\n",
              "      <td>1</td>\n",
              "      <td>1</td>\n",
              "      <td>1</td>\n",
              "      <td>1</td>\n",
              "      <td>-1</td>\n",
              "      <td>1</td>\n",
              "      <td>-1</td>\n",
              "      <td>-1</td>\n",
              "    </tr>\n",
              "  </tbody>\n",
              "</table>\n",
              "<p>5 rows × 30 columns</p>\n",
              "</div>"
            ],
            "text/plain": [
              "   UsingIP  LongURL  ShortURL  Symbol@  Redirecting//  PrefixSuffix-  \\\n",
              "0        1        1         1        1              1             -1   \n",
              "1        1        0         1        1              1             -1   \n",
              "2        1        0         1        1              1             -1   \n",
              "3        1        0        -1        1              1             -1   \n",
              "4       -1        0        -1        1             -1             -1   \n",
              "\n",
              "   SubDomains  HTTPS  DomainRegLen  Favicon  ...  DisableRightClick  \\\n",
              "0           0      1            -1        1  ...                  1   \n",
              "1          -1     -1            -1        1  ...                  1   \n",
              "2          -1     -1             1        1  ...                  1   \n",
              "3           1      1            -1        1  ...                  1   \n",
              "4           1      1            -1        1  ...                  1   \n",
              "\n",
              "   UsingPopupWindow  IframeRedirection  AgeofDomain  DNSRecording  \\\n",
              "0                 1                  1           -1            -1   \n",
              "1                 1                  1            1            -1   \n",
              "2                 1                  1           -1            -1   \n",
              "3                -1                  1           -1            -1   \n",
              "4                 1                  1            1             1   \n",
              "\n",
              "   WebsiteTraffic  PageRank  GoogleIndex  LinksPointingToPage  StatsReport  \n",
              "0               0        -1            1                    1            1  \n",
              "1               1        -1            1                    0           -1  \n",
              "2               1        -1            1                   -1            1  \n",
              "3               0        -1            1                    1            1  \n",
              "4               1        -1            1                   -1           -1  \n",
              "\n",
              "[5 rows x 30 columns]"
            ]
          },
          "execution_count": 18,
          "metadata": {},
          "output_type": "execute_result"
        }
      ],
      "source": [
        "X= df.drop(columns=['class','Index'])\n",
        "\n",
        "X.head()  #set of attributes"
      ]
    },
    {
      "cell_type": "code",
      "execution_count": 19,
      "metadata": {
        "colab": {
          "base_uri": "https://localhost:8080/",
          "height": 206
        },
        "id": "9scpV5cZLKV6",
        "outputId": "5b443b9a-6998-4b20-c03f-889655ee24a1"
      },
      "outputs": [
        {
          "data": {
            "text/html": [
              "<div>\n",
              "<style scoped>\n",
              "    .dataframe tbody tr th:only-of-type {\n",
              "        vertical-align: middle;\n",
              "    }\n",
              "\n",
              "    .dataframe tbody tr th {\n",
              "        vertical-align: top;\n",
              "    }\n",
              "\n",
              "    .dataframe thead th {\n",
              "        text-align: right;\n",
              "    }\n",
              "</style>\n",
              "<table border=\"1\" class=\"dataframe\">\n",
              "  <thead>\n",
              "    <tr style=\"text-align: right;\">\n",
              "      <th></th>\n",
              "      <th>class</th>\n",
              "    </tr>\n",
              "  </thead>\n",
              "  <tbody>\n",
              "    <tr>\n",
              "      <th>0</th>\n",
              "      <td>-1</td>\n",
              "    </tr>\n",
              "    <tr>\n",
              "      <th>1</th>\n",
              "      <td>-1</td>\n",
              "    </tr>\n",
              "    <tr>\n",
              "      <th>2</th>\n",
              "      <td>-1</td>\n",
              "    </tr>\n",
              "    <tr>\n",
              "      <th>3</th>\n",
              "      <td>1</td>\n",
              "    </tr>\n",
              "    <tr>\n",
              "      <th>4</th>\n",
              "      <td>1</td>\n",
              "    </tr>\n",
              "  </tbody>\n",
              "</table>\n",
              "</div>"
            ],
            "text/plain": [
              "   class\n",
              "0     -1\n",
              "1     -1\n",
              "2     -1\n",
              "3      1\n",
              "4      1"
            ]
          },
          "execution_count": 19,
          "metadata": {},
          "output_type": "execute_result"
        }
      ],
      "source": [
        "Y=df['class'] #array\n",
        "Y=pd.DataFrame(Y)\n",
        "Y.head() #corrosponding class"
      ]
    },
    {
      "cell_type": "code",
      "execution_count": 20,
      "metadata": {
        "id": "DVtJHfRXLKV7"
      },
      "outputs": [],
      "source": [
        "train_X,test_X,train_Y,test_Y=train_test_split(X,Y,test_size=0.3,random_state=2)"
      ]
    },
    {
      "cell_type": "code",
      "execution_count": 21,
      "metadata": {
        "colab": {
          "base_uri": "https://localhost:8080/"
        },
        "id": "0QUlxiKZLKV7",
        "outputId": "d3514b41-2aa8-4841-ba65-d8f9f1263b7f"
      },
      "outputs": [
        {
          "name": "stdout",
          "output_type": "stream",
          "text": [
            "(7737, 30)\n",
            "(3317, 30)\n",
            "(7737, 1)\n",
            "(3317, 1)\n"
          ]
        }
      ],
      "source": [
        "print(train_X.shape)\n",
        "print(test_X.shape)\n",
        "print(train_Y.shape)\n",
        "print(test_Y.shape)"
      ]
    },
    {
      "cell_type": "markdown",
      "metadata": {
        "id": "fCOQHnhnLKV7"
      },
      "source": [
        "**Lets apply Logistic Regression and check its accuracy**"
      ]
    },
    {
      "cell_type": "code",
      "execution_count": 22,
      "metadata": {
        "id": "9CuB5UBGLKV8"
      },
      "outputs": [],
      "source": [
        "from sklearn.linear_model import LogisticRegression\n",
        "from matplotlib import pyplot as plt\n",
        "import seaborn as sns\n",
        "%matplotlib inline   \n",
        "#Once this command is executed in any cell, then for the rest of the session,\n",
        "#the matplotlib plots will appear directly below the cell in which the plot function was called.\n",
        "from sklearn.metrics import accuracy_score,confusion_matrix,classification_report"
      ]
    },
    {
      "cell_type": "code",
      "execution_count": 23,
      "metadata": {
        "colab": {
          "base_uri": "https://localhost:8080/"
        },
        "id": "wQQ63M07LKV9",
        "outputId": "4db4848e-db13-4f12-8ac6-968d843ef23f"
      },
      "outputs": [
        {
          "name": "stderr",
          "output_type": "stream",
          "text": [
            "/home/aditya/.local/lib/python3.10/site-packages/sklearn/utils/validation.py:1143: DataConversionWarning: A column-vector y was passed when a 1d array was expected. Please change the shape of y to (n_samples, ), for example using ravel().\n",
            "  y = column_or_1d(y, warn=True)\n"
          ]
        }
      ],
      "source": [
        "logreg=LogisticRegression()\n",
        "model_1=logreg.fit(train_X,train_Y)"
      ]
    },
    {
      "cell_type": "code",
      "execution_count": 24,
      "metadata": {
        "id": "h5Eleu28LKV9"
      },
      "outputs": [],
      "source": [
        "logreg_predict= model_1.predict(test_X)"
      ]
    },
    {
      "cell_type": "code",
      "execution_count": 25,
      "metadata": {
        "colab": {
          "base_uri": "https://localhost:8080/"
        },
        "id": "SAd0UBDJLKV9",
        "outputId": "4f5e13be-9263-4433-9fa5-8deb2c7822b7"
      },
      "outputs": [
        {
          "data": {
            "text/plain": [
              "0.9243292131444076"
            ]
          },
          "execution_count": 25,
          "metadata": {},
          "output_type": "execute_result"
        }
      ],
      "source": [
        "accuracy_score(logreg_predict,test_Y) #92.76%"
      ]
    },
    {
      "cell_type": "code",
      "execution_count": 26,
      "metadata": {
        "colab": {
          "base_uri": "https://localhost:8080/"
        },
        "id": "TlqqSVW7LKV9",
        "outputId": "cb13bac1-e260-4dbe-aa60-310b6c320e70"
      },
      "outputs": [
        {
          "name": "stdout",
          "output_type": "stream",
          "text": [
            "              precision    recall  f1-score   support\n",
            "\n",
            "          -1       0.89      0.93      0.91      1401\n",
            "           1       0.95      0.92      0.93      1916\n",
            "\n",
            "    accuracy                           0.92      3317\n",
            "   macro avg       0.92      0.93      0.92      3317\n",
            "weighted avg       0.93      0.92      0.92      3317\n",
            "\n"
          ]
        }
      ],
      "source": [
        "print(classification_report(logreg_predict,test_Y))"
      ]
    },
    {
      "cell_type": "code",
      "execution_count": 27,
      "metadata": {
        "id": "snHGdll-LKV9"
      },
      "outputs": [],
      "source": [
        "def plot_confusion_matrix(test_Y, predict_y):\n",
        " C = confusion_matrix(test_Y, predict_y)\n",
        " A =(((C.T)/(C.sum(axis=1))).T)\n",
        " B =(C/C.sum(axis=0))\n",
        " plt.figure(figsize=(20,4))\n",
        " labels = [1,2]\n",
        " cmap=sns.light_palette(\"blue\")\n",
        " plt.subplot(1, 3, 1)\n",
        " sns.heatmap(C, annot=True, cmap=cmap, fmt=\".3f\", xticklabels=labels, yticklabels=labels)\n",
        " plt.xlabel('Predicted Class')\n",
        " plt.ylabel('Original Class')\n",
        " plt.title(\"Confusion matrix\")\n",
        " plt.subplot(1, 3, 2)\n",
        " sns.heatmap(B, annot=True, cmap=cmap, fmt=\".3f\", xticklabels=labels, yticklabels=labels)\n",
        " plt.xlabel('Predicted Class')\n",
        " plt.ylabel('Original Class')\n",
        " plt.title(\"Precision matrix\")\n",
        " plt.subplot(1, 3, 3)\n",
        " sns.heatmap(A, annot=True, cmap=cmap, fmt=\".3f\", xticklabels=labels, yticklabels=labels)\n",
        " plt.xlabel('Predicted Class')\n",
        " plt.ylabel('Original Class')\n",
        " plt.title(\"Recall matrix\")\n",
        " plt.show()"
      ]
    },
    {
      "cell_type": "code",
      "execution_count": 28,
      "metadata": {
        "colab": {
          "base_uri": "https://localhost:8080/",
          "height": 229
        },
        "id": "eSZb4TQxLKV-",
        "outputId": "ebae4bc8-bd2c-4ded-a87f-933b7e19033d"
      },
      "outputs": [
        {
          "data": {
            "image/png": "[encoded data removed]",
            "text/plain": [
              "<Figure size 2000x400 with 6 Axes>"
            ]
          },
          "metadata": {},
          "output_type": "display_data"
        }
      ],
      "source": [
        "plot_confusion_matrix(test_Y, logreg_predict)"
      ]
    },
    {
      "cell_type": "markdown",
      "metadata": {
        "id": "JintWo5eLKV-"
      },
      "source": [
        "**Lets apply K-Nearest Neighbors Classifier and check its accuracy**"
      ]
    },
    {
      "cell_type": "code",
      "execution_count": 29,
      "metadata": {
        "id": "9o-syyzkLKV-"
      },
      "outputs": [],
      "source": [
        "from sklearn.neighbors import KNeighborsClassifier"
      ]
    },
    {
      "cell_type": "code",
      "execution_count": 30,
      "metadata": {
        "colab": {
          "base_uri": "https://localhost:8080/"
        },
        "id": "NexGHL7FLKV-",
        "outputId": "4527872e-862e-4dde-b301-22200c807dfa"
      },
      "outputs": [
        {
          "name": "stderr",
          "output_type": "stream",
          "text": [
            "/home/aditya/.local/lib/python3.10/site-packages/sklearn/neighbors/_classification.py:215: DataConversionWarning: A column-vector y was passed when a 1d array was expected. Please change the shape of y to (n_samples,), for example using ravel().\n",
            "  return self._fit(X, y)\n"
          ]
        }
      ],
      "source": [
        "knn=KNeighborsClassifier(n_neighbors=2)\n",
        "model_2= knn.fit(train_X,train_Y)"
      ]
    },
    {
      "cell_type": "code",
      "execution_count": 31,
      "metadata": {
        "id": "WHb99e_cLKV-"
      },
      "outputs": [],
      "source": [
        "knn_predict=model_2.predict(test_X)"
      ]
    },
    {
      "cell_type": "code",
      "execution_count": 32,
      "metadata": {
        "colab": {
          "base_uri": "https://localhost:8080/"
        },
        "id": "Fxlkd43xLKV-",
        "outputId": "ebe414dc-9f3b-4f67-c4b8-1cd67e914b60"
      },
      "outputs": [
        {
          "data": {
            "text/plain": [
              "0.9381971661139584"
            ]
          },
          "execution_count": 32,
          "metadata": {},
          "output_type": "execute_result"
        }
      ],
      "source": [
        "accuracy_score(knn_predict,test_Y)"
      ]
    },
    {
      "cell_type": "code",
      "execution_count": 33,
      "metadata": {
        "colab": {
          "base_uri": "https://localhost:8080/"
        },
        "id": "0SnxVE1DLKV_",
        "outputId": "d6cea2da-fac8-4fc7-c63f-0212d02dccd1"
      },
      "outputs": [
        {
          "name": "stdout",
          "output_type": "stream",
          "text": [
            "              precision    recall  f1-score   support\n",
            "\n",
            "          -1       0.90      0.97      0.93      1458\n",
            "           1       0.97      0.91      0.94      1859\n",
            "\n",
            "    accuracy                           0.94      3317\n",
            "   macro avg       0.94      0.94      0.94      3317\n",
            "weighted avg       0.94      0.94      0.94      3317\n",
            "\n"
          ]
        }
      ],
      "source": [
        "print(classification_report(test_Y,knn_predict))"
      ]
    },
    {
      "cell_type": "code",
      "execution_count": 34,
      "metadata": {
        "colab": {
          "base_uri": "https://localhost:8080/",
          "height": 229
        },
        "id": "mFHSROuYLKV_",
        "outputId": "8f40ecdb-868e-4a99-f7cb-dd192295c44c"
      },
      "outputs": [
        {
          "data": {
            "image/png": "[encoded data removed]",
            "text/plain": [
              "<Figure size 2000x400 with 6 Axes>"
            ]
          },
          "metadata": {},
          "output_type": "display_data"
        }
      ],
      "source": [
        "plot_confusion_matrix(test_Y, knn_predict)"
      ]
    },
    {
      "cell_type": "markdown",
      "metadata": {
        "id": "KN5A7ZcNLKV_"
      },
      "source": [
        "**Lets apply Decision Tree Classifier and check its classifier**"
      ]
    },
    {
      "cell_type": "code",
      "execution_count": 35,
      "metadata": {
        "id": "yf4XfQBWLKV_"
      },
      "outputs": [],
      "source": [
        "from sklearn.tree import DecisionTreeClassifier"
      ]
    },
    {
      "cell_type": "code",
      "execution_count": 36,
      "metadata": {
        "id": "hktE5ZdhLKV_"
      },
      "outputs": [],
      "source": [
        "dtree=DecisionTreeClassifier()\n",
        "model_3=dtree.fit(train_X,train_Y)"
      ]
    },
    {
      "cell_type": "code",
      "execution_count": 37,
      "metadata": {
        "id": "5j71y_xzLKV_"
      },
      "outputs": [],
      "source": [
        "dtree_predict=model_3.predict(test_X)"
      ]
    },
    {
      "cell_type": "code",
      "execution_count": 38,
      "metadata": {
        "colab": {
          "base_uri": "https://localhost:8080/"
        },
        "id": "9MHpz0OPLKWA",
        "outputId": "a8e0a0bb-fcc6-4cbe-a80c-2b246a42cd79"
      },
      "outputs": [
        {
          "data": {
            "text/plain": [
              "0.963521254145312"
            ]
          },
          "execution_count": 38,
          "metadata": {},
          "output_type": "execute_result"
        }
      ],
      "source": [
        "accuracy_score(dtree_predict,test_Y)"
      ]
    },
    {
      "cell_type": "code",
      "execution_count": 39,
      "metadata": {
        "colab": {
          "base_uri": "https://localhost:8080/"
        },
        "id": "d3ywFOgCLKWA",
        "outputId": "89d85362-381a-4e8c-894d-216c84a2f680"
      },
      "outputs": [
        {
          "name": "stdout",
          "output_type": "stream",
          "text": [
            "              precision    recall  f1-score   support\n",
            "\n",
            "          -1       0.96      0.96      0.96      1455\n",
            "           1       0.97      0.97      0.97      1862\n",
            "\n",
            "    accuracy                           0.96      3317\n",
            "   macro avg       0.96      0.96      0.96      3317\n",
            "weighted avg       0.96      0.96      0.96      3317\n",
            "\n"
          ]
        }
      ],
      "source": [
        "print(classification_report(dtree_predict,test_Y))"
      ]
    },
    {
      "cell_type": "code",
      "execution_count": 40,
      "metadata": {
        "colab": {
          "base_uri": "https://localhost:8080/",
          "height": 229
        },
        "id": "NaIcCOYmLKWA",
        "outputId": "7408c035-fa0e-443f-90ed-671b0ac23992"
      },
      "outputs": [
        {
          "data": {
            "image/png": "[encoded data removed]",
            "text/plain": [
              "<Figure size 2000x400 with 6 Axes>"
            ]
          },
          "metadata": {},
          "output_type": "display_data"
        }
      ],
      "source": [
        "plot_confusion_matrix(test_Y, dtree_predict)"
      ]
    },
    {
      "cell_type": "markdown",
      "metadata": {
        "id": "ewTP_hIDLKWA"
      },
      "source": [
        "**Lets apply Random Forest Classifier and check its accuracy**"
      ]
    },
    {
      "cell_type": "code",
      "execution_count": 41,
      "metadata": {
        "id": "pEpbhprcLKWA"
      },
      "outputs": [],
      "source": [
        "from sklearn.ensemble import RandomForestClassifier"
      ]
    },
    {
      "cell_type": "code",
      "execution_count": 42,
      "metadata": {
        "colab": {
          "base_uri": "https://localhost:8080/"
        },
        "id": "IWkaK11QLKWA",
        "outputId": "4615fb09-194f-41fa-fbfb-b5d73018856b"
      },
      "outputs": [
        {
          "name": "stderr",
          "output_type": "stream",
          "text": [
            "/tmp/ipykernel_61672/1551461989.py:2: DataConversionWarning: A column-vector y was passed when a 1d array was expected. Please change the shape of y to (n_samples,), for example using ravel().\n",
            "  model_4=rfc.fit(train_X,train_Y)\n"
          ]
        }
      ],
      "source": [
        "rfc=RandomForestClassifier()\n",
        "model_4=rfc.fit(train_X,train_Y)"
      ]
    },
    {
      "cell_type": "code",
      "execution_count": 43,
      "metadata": {
        "id": "SWz5JWYjLKWB"
      },
      "outputs": [],
      "source": [
        "rfc_predict=model_4.predict(test_X)"
      ]
    },
    {
      "cell_type": "code",
      "execution_count": 44,
      "metadata": {
        "colab": {
          "base_uri": "https://localhost:8080/"
        },
        "id": "OkuH78QiLKWB",
        "outputId": "74dac2ca-bc14-407d-907f-8f745d73eda3"
      },
      "outputs": [
        {
          "data": {
            "text/plain": [
              "0.9746759119686463"
            ]
          },
          "execution_count": 44,
          "metadata": {},
          "output_type": "execute_result"
        }
      ],
      "source": [
        "accuracy_score(rfc_predict,test_Y)"
      ]
    },
    {
      "cell_type": "code",
      "execution_count": 45,
      "metadata": {
        "colab": {
          "base_uri": "https://localhost:8080/"
        },
        "id": "NX1LvQx8LKWB",
        "outputId": "da1f0ab1-36d9-4cec-fbb1-94bf13ae3207"
      },
      "outputs": [
        {
          "name": "stdout",
          "output_type": "stream",
          "text": [
            "              precision    recall  f1-score   support\n",
            "\n",
            "          -1       0.96      0.98      0.97      1430\n",
            "           1       0.98      0.97      0.98      1887\n",
            "\n",
            "    accuracy                           0.97      3317\n",
            "   macro avg       0.97      0.98      0.97      3317\n",
            "weighted avg       0.97      0.97      0.97      3317\n",
            "\n"
          ]
        }
      ],
      "source": [
        "print(classification_report(rfc_predict,test_Y))"
      ]
    },
    {
      "cell_type": "code",
      "execution_count": 46,
      "metadata": {
        "colab": {
          "base_uri": "https://localhost:8080/",
          "height": 229
        },
        "id": "4YldX2RKLKWB",
        "outputId": "af5d4940-433c-4ccc-8bab-fb804d5ce398"
      },
      "outputs": [
        {
          "data": {
            "image/png": "[encoded data removed]",
            "text/plain": [
              "<Figure size 2000x400 with 6 Axes>"
            ]
          },
          "metadata": {},
          "output_type": "display_data"
        }
      ],
      "source": [
        "plot_confusion_matrix(test_Y, rfc_predict)"
      ]
    },
    {
      "cell_type": "markdown",
      "metadata": {
        "id": "_acF9v2mLKWB"
      },
      "source": [
        "**Lets Apply SVM and check its accuracy**"
      ]
    },
    {
      "cell_type": "code",
      "execution_count": 47,
      "metadata": {
        "id": "e8kyWSXKLKWB"
      },
      "outputs": [],
      "source": [
        "from sklearn.svm import SVC"
      ]
    },
    {
      "cell_type": "code",
      "execution_count": 48,
      "metadata": {
        "colab": {
          "base_uri": "https://localhost:8080/"
        },
        "id": "ryK8f-SjLKWB",
        "outputId": "74caf7e1-11a8-46f9-e7e4-d0666463b42b"
      },
      "outputs": [
        {
          "name": "stderr",
          "output_type": "stream",
          "text": [
            "/home/aditya/.local/lib/python3.10/site-packages/sklearn/utils/validation.py:1143: DataConversionWarning: A column-vector y was passed when a 1d array was expected. Please change the shape of y to (n_samples, ), for example using ravel().\n",
            "  y = column_or_1d(y, warn=True)\n"
          ]
        }
      ],
      "source": [
        "svc=SVC()\n",
        "model_5=svc.fit(train_X,train_Y)"
      ]
    },
    {
      "cell_type": "code",
      "execution_count": 49,
      "metadata": {
        "id": "f_nmuEK1LKWB"
      },
      "outputs": [],
      "source": [
        "svm_predict=model_5.predict(test_X)"
      ]
    },
    {
      "cell_type": "code",
      "execution_count": 50,
      "metadata": {
        "colab": {
          "base_uri": "https://localhost:8080/"
        },
        "id": "qfHYGAGILKWB",
        "outputId": "e4cd7f4e-5a5f-4d6f-a756-9eaef026edfe"
      },
      "outputs": [
        {
          "data": {
            "text/plain": [
              "0.9472414832680133"
            ]
          },
          "execution_count": 50,
          "metadata": {},
          "output_type": "execute_result"
        }
      ],
      "source": [
        "accuracy_score(svm_predict,test_Y)"
      ]
    },
    {
      "cell_type": "code",
      "execution_count": 51,
      "metadata": {
        "colab": {
          "base_uri": "https://localhost:8080/"
        },
        "id": "nxoY-9bBLKWC",
        "outputId": "4592d65b-bf5d-4848-9797-8e4932809651"
      },
      "outputs": [
        {
          "name": "stdout",
          "output_type": "stream",
          "text": [
            "              precision    recall  f1-score   support\n",
            "\n",
            "          -1       0.92      0.96      0.94      1397\n",
            "           1       0.97      0.94      0.95      1920\n",
            "\n",
            "    accuracy                           0.95      3317\n",
            "   macro avg       0.94      0.95      0.95      3317\n",
            "weighted avg       0.95      0.95      0.95      3317\n",
            "\n"
          ]
        }
      ],
      "source": [
        "print(classification_report(svm_predict,test_Y))"
      ]
    },
    {
      "cell_type": "code",
      "execution_count": 52,
      "metadata": {
        "colab": {
          "base_uri": "https://localhost:8080/",
          "height": 229
        },
        "id": "dACT9QV7LKWC",
        "outputId": "e1e9aaa2-d651-408c-f5c3-cd53cbd643cd"
      },
      "outputs": [
        {
          "data": {
            "image/png": "[encoded data removed]",
            "text/plain": [
              "<Figure size 2000x400 with 6 Axes>"
            ]
          },
          "metadata": {},
          "output_type": "display_data"
        }
      ],
      "source": [
        "plot_confusion_matrix(test_Y, svm_predict)"
      ]
    },
    {
      "cell_type": "markdown",
      "metadata": {
        "id": "zMTmLeEqUK3b"
      },
      "source": [
        "**Lets apply AdaBoost Classifier and check its accuracy**"
      ]
    },
    {
      "cell_type": "code",
      "execution_count": 53,
      "metadata": {
        "id": "UbgzGvgfLKWC"
      },
      "outputs": [],
      "source": [
        "from sklearn.ensemble import AdaBoostClassifier"
      ]
    },
    {
      "cell_type": "code",
      "execution_count": 54,
      "metadata": {
        "colab": {
          "base_uri": "https://localhost:8080/"
        },
        "id": "vPfU3HqmLKWC",
        "outputId": "98856fe4-ed66-4db8-c956-ca0b740b0e37"
      },
      "outputs": [
        {
          "name": "stderr",
          "output_type": "stream",
          "text": [
            "/home/aditya/.local/lib/python3.10/site-packages/sklearn/utils/validation.py:1143: DataConversionWarning: A column-vector y was passed when a 1d array was expected. Please change the shape of y to (n_samples, ), for example using ravel().\n",
            "  y = column_or_1d(y, warn=True)\n"
          ]
        }
      ],
      "source": [
        "adc=AdaBoostClassifier(n_estimators=5,learning_rate=1)\n",
        "model_6=adc.fit(train_X,train_Y)"
      ]
    },
    {
      "cell_type": "code",
      "execution_count": 55,
      "metadata": {
        "id": "VivpHYZnLKWC"
      },
      "outputs": [],
      "source": [
        "adc_predict=model_6.predict(test_X)"
      ]
    },
    {
      "cell_type": "code",
      "execution_count": 56,
      "metadata": {
        "colab": {
          "base_uri": "https://localhost:8080/"
        },
        "id": "rRovDpiDLKWC",
        "outputId": "ce7cda4b-e852-40d2-b68d-1354b3baee01"
      },
      "outputs": [
        {
          "data": {
            "text/plain": [
              "0.9104612601748568"
            ]
          },
          "execution_count": 56,
          "metadata": {},
          "output_type": "execute_result"
        }
      ],
      "source": [
        "accuracy_score(adc_predict,test_Y)"
      ]
    },
    {
      "cell_type": "code",
      "execution_count": 57,
      "metadata": {
        "colab": {
          "base_uri": "https://localhost:8080/"
        },
        "id": "N_xK2lA7LKWC",
        "outputId": "267e5c37-e38e-4bff-b1aa-b26d53888b9b"
      },
      "outputs": [
        {
          "name": "stdout",
          "output_type": "stream",
          "text": [
            "              precision    recall  f1-score   support\n",
            "\n",
            "          -1       0.88      0.91      0.90      1403\n",
            "           1       0.93      0.91      0.92      1914\n",
            "\n",
            "    accuracy                           0.91      3317\n",
            "   macro avg       0.91      0.91      0.91      3317\n",
            "weighted avg       0.91      0.91      0.91      3317\n",
            "\n"
          ]
        }
      ],
      "source": [
        "print(classification_report(adc_predict,test_Y))"
      ]
    },
    {
      "cell_type": "code",
      "execution_count": 58,
      "metadata": {
        "colab": {
          "base_uri": "https://localhost:8080/",
          "height": 229
        },
        "id": "pp1jGMpeLKWC",
        "outputId": "de86f9ac-dc0b-49f8-e6ff-1c23be2faace"
      },
      "outputs": [
        {
          "data": {
            "image/png": "[encoded data removed]",
            "text/plain": [
              "<Figure size 2000x400 with 6 Axes>"
            ]
          },
          "metadata": {},
          "output_type": "display_data"
        }
      ],
      "source": [
        "plot_confusion_matrix(test_Y, adc_predict)"
      ]
    },
    {
      "cell_type": "markdown",
      "metadata": {
        "id": "4_M-ZR2MLKWD"
      },
      "source": [
        "Lets apply XGBoost Classifier and check its accuracy"
      ]
    },
    {
      "cell_type": "code",
      "execution_count": 59,
      "metadata": {
        "colab": {
          "base_uri": "https://localhost:8080/"
        },
        "id": "E_eJ3oSvLKWD",
        "outputId": "42b646c6-c574-4467-e4da-0328626a6db2"
      },
      "outputs": [
        {
          "name": "stdout",
          "output_type": "stream",
          "text": [
            "Logistic Regression Accuracy: 0.9243292131444076\n",
            "K-Nearest Neighbour Accuracy: 0.9381971661139584\n",
            "Decision Tree Classifier Accuracy: 0.963521254145312\n",
            "Random Forest Classifier Accuracy: 0.9746759119686463\n",
            "Support Vector Machine Accuracy: 0.9472414832680133\n",
            "Adaboost Classifier Accuracy: 0.9104612601748568\n"
          ]
        }
      ],
      "source": [
        "print('Logistic Regression Accuracy:',accuracy_score(logreg_predict,test_Y))\n",
        "print('K-Nearest Neighbour Accuracy:',accuracy_score(knn_predict,test_Y))\n",
        "print('Decision Tree Classifier Accuracy:',accuracy_score(dtree_predict,test_Y))\n",
        "print('Random Forest Classifier Accuracy:',accuracy_score(rfc_predict,test_Y))\n",
        "print('Support Vector Machine Accuracy:',accuracy_score(svm_predict,test_Y))\n",
        "print('Adaboost Classifier Accuracy:',accuracy_score(adc_predict,test_Y))\n"
      ]
    },
    {
      "cell_type": "markdown",
      "metadata": {
        "id": "sURDKuNyLKWE"
      },
      "source": [
        "From all the models we developed , Random forest accuracy has highest accuracy and followed by decision tree and SVM. Lowest accuracy model is Adaboost. "
      ]
    },
    {
      "cell_type": "markdown",
      "metadata": {
        "id": "2c0P6c0BLKWE"
      },
      "source": [
        "Now lets consider only two imporatant features Prefix_Suffix and URL_of_Anchor."
      ]
    },
    {
      "cell_type": "code",
      "execution_count": 60,
      "metadata": {
        "colab": {
          "base_uri": "https://localhost:8080/"
        },
        "id": "d_w9El-lLKWE",
        "outputId": "14889aab-0417-43f0-bb66-0c6ca536c2cf"
      },
      "outputs": [
        {
          "data": {
            "text/plain": [
              "Index(['Index', 'UsingIP', 'LongURL', 'ShortURL', 'Symbol@', 'Redirecting//',\n",
              "       'PrefixSuffix-', 'SubDomains', 'HTTPS', 'DomainRegLen', 'Favicon',\n",
              "       'NonStdPort', 'HTTPSDomainURL', 'RequestURL', 'AnchorURL',\n",
              "       'LinksInScriptTags', 'ServerFormHandler', 'InfoEmail', 'AbnormalURL',\n",
              "       'WebsiteForwarding', 'StatusBarCust', 'DisableRightClick',\n",
              "       'UsingPopupWindow', 'IframeRedirection', 'AgeofDomain', 'DNSRecording',\n",
              "       'WebsiteTraffic', 'PageRank', 'GoogleIndex', 'LinksPointingToPage',\n",
              "       'StatsReport', 'class'],\n",
              "      dtype='object')"
            ]
          },
          "execution_count": 60,
          "metadata": {},
          "output_type": "execute_result"
        }
      ],
      "source": [
        "df.columns"
      ]
    },
    {
      "cell_type": "code",
      "execution_count": 61,
      "metadata": {
        "colab": {
          "base_uri": "https://localhost:8080/",
          "height": 206
        },
        "id": "_gH_vVg_LKWE",
        "outputId": "772a0af2-60f6-433c-8a14-0937205b933c"
      },
      "outputs": [
        {
          "data": {
            "text/html": [
              "<div>\n",
              "<style scoped>\n",
              "    .dataframe tbody tr th:only-of-type {\n",
              "        vertical-align: middle;\n",
              "    }\n",
              "\n",
              "    .dataframe tbody tr th {\n",
              "        vertical-align: top;\n",
              "    }\n",
              "\n",
              "    .dataframe thead th {\n",
              "        text-align: right;\n",
              "    }\n",
              "</style>\n",
              "<table border=\"1\" class=\"dataframe\">\n",
              "  <thead>\n",
              "    <tr style=\"text-align: right;\">\n",
              "      <th></th>\n",
              "      <th>LongURL</th>\n",
              "      <th>ShortURL</th>\n",
              "      <th>PrefixSuffix-</th>\n",
              "      <th>HTTPS</th>\n",
              "      <th>UsingIP</th>\n",
              "      <th>Symbol@</th>\n",
              "    </tr>\n",
              "  </thead>\n",
              "  <tbody>\n",
              "    <tr>\n",
              "      <th>0</th>\n",
              "      <td>1</td>\n",
              "      <td>1</td>\n",
              "      <td>-1</td>\n",
              "      <td>1</td>\n",
              "      <td>1</td>\n",
              "      <td>1</td>\n",
              "    </tr>\n",
              "    <tr>\n",
              "      <th>1</th>\n",
              "      <td>0</td>\n",
              "      <td>1</td>\n",
              "      <td>-1</td>\n",
              "      <td>-1</td>\n",
              "      <td>1</td>\n",
              "      <td>1</td>\n",
              "    </tr>\n",
              "    <tr>\n",
              "      <th>2</th>\n",
              "      <td>0</td>\n",
              "      <td>1</td>\n",
              "      <td>-1</td>\n",
              "      <td>-1</td>\n",
              "      <td>1</td>\n",
              "      <td>1</td>\n",
              "    </tr>\n",
              "    <tr>\n",
              "      <th>3</th>\n",
              "      <td>0</td>\n",
              "      <td>-1</td>\n",
              "      <td>-1</td>\n",
              "      <td>1</td>\n",
              "      <td>1</td>\n",
              "      <td>1</td>\n",
              "    </tr>\n",
              "    <tr>\n",
              "      <th>4</th>\n",
              "      <td>0</td>\n",
              "      <td>-1</td>\n",
              "      <td>-1</td>\n",
              "      <td>1</td>\n",
              "      <td>-1</td>\n",
              "      <td>1</td>\n",
              "    </tr>\n",
              "  </tbody>\n",
              "</table>\n",
              "</div>"
            ],
            "text/plain": [
              "   LongURL  ShortURL  PrefixSuffix-  HTTPS  UsingIP  Symbol@\n",
              "0        1         1             -1      1        1        1\n",
              "1        0         1             -1     -1        1        1\n",
              "2        0         1             -1     -1        1        1\n",
              "3        0        -1             -1      1        1        1\n",
              "4        0        -1             -1      1       -1        1"
            ]
          },
          "execution_count": 61,
          "metadata": {},
          "output_type": "execute_result"
        }
      ],
      "source": [
        "X=df[['LongURL', 'ShortURL','PrefixSuffix-','HTTPS','UsingIP','Symbol@']]\n",
        "X.head()"
      ]
    },
    {
      "cell_type": "code",
      "execution_count": 62,
      "metadata": {
        "id": "KVVdVcn6LKWE"
      },
      "outputs": [],
      "source": [
        "train_X,test_X,train_Y,test_Y=train_test_split(X,Y,test_size=0.3,random_state=2)"
      ]
    },
    {
      "cell_type": "code",
      "execution_count": 63,
      "metadata": {
        "colab": {
          "base_uri": "https://localhost:8080/"
        },
        "id": "pAFR7sOcLKWE",
        "outputId": "6d7b678d-72e8-4c35-88e1-0465317c7a03"
      },
      "outputs": [
        {
          "name": "stdout",
          "output_type": "stream",
          "text": [
            "(7737, 6)\n",
            "(3317, 6)\n",
            "(7737, 1)\n",
            "(3317, 1)\n"
          ]
        }
      ],
      "source": [
        "print(train_X.shape)\n",
        "print(test_X.shape)\n",
        "print(train_Y.shape)\n",
        "print(test_Y.shape)"
      ]
    },
    {
      "cell_type": "markdown",
      "metadata": {
        "id": "Vxu2TVhbLKWE"
      },
      "source": [
        "Now lets apply logistic Regression for this new model which is having only two features"
      ]
    },
    {
      "cell_type": "code",
      "execution_count": 64,
      "metadata": {
        "colab": {
          "base_uri": "https://localhost:8080/"
        },
        "id": "YTQIXsKULKWE",
        "outputId": "63e85b68-c088-4a56-dc11-e102c8733db4"
      },
      "outputs": [
        {
          "name": "stderr",
          "output_type": "stream",
          "text": [
            "/home/aditya/.local/lib/python3.10/site-packages/sklearn/utils/validation.py:1143: DataConversionWarning: A column-vector y was passed when a 1d array was expected. Please change the shape of y to (n_samples, ), for example using ravel().\n",
            "  y = column_or_1d(y, warn=True)\n"
          ]
        }
      ],
      "source": [
        "model_7=logreg.fit(train_X,train_Y)"
      ]
    },
    {
      "cell_type": "code",
      "execution_count": 65,
      "metadata": {
        "id": "SN8nwy2WLKWF"
      },
      "outputs": [],
      "source": [
        "logreg_predict=model_7.predict(test_X)"
      ]
    },
    {
      "cell_type": "code",
      "execution_count": 66,
      "metadata": {
        "colab": {
          "base_uri": "https://localhost:8080/"
        },
        "id": "0NDxhMYYLKWF",
        "outputId": "eb826caa-04fa-4138-8c9f-0779d419d2df"
      },
      "outputs": [
        {
          "data": {
            "text/plain": [
              "0.9011154657823335"
            ]
          },
          "execution_count": 66,
          "metadata": {},
          "output_type": "execute_result"
        }
      ],
      "source": [
        "accuracy_score(test_Y,logreg_predict)"
      ]
    },
    {
      "cell_type": "code",
      "execution_count": 67,
      "metadata": {
        "colab": {
          "base_uri": "https://localhost:8080/"
        },
        "id": "UPA5Ct1lqrnm",
        "outputId": "4ef264c9-1ea7-4e5b-b9d1-478df41e8c02"
      },
      "outputs": [
        {
          "name": "stdout",
          "output_type": "stream",
          "text": [
            "              precision    recall  f1-score   support\n",
            "\n",
            "          -1       0.86      0.91      0.88      1368\n",
            "           1       0.94      0.89      0.91      1949\n",
            "\n",
            "    accuracy                           0.90      3317\n",
            "   macro avg       0.90      0.90      0.90      3317\n",
            "weighted avg       0.90      0.90      0.90      3317\n",
            "\n"
          ]
        }
      ],
      "source": [
        "print(classification_report(logreg_predict,test_Y))"
      ]
    },
    {
      "cell_type": "markdown",
      "metadata": {
        "id": "xSPalccivtWt"
      },
      "source": [
        "Now lets apply KNN for this new model which is having only two features"
      ]
    },
    {
      "cell_type": "code",
      "execution_count": 68,
      "metadata": {
        "colab": {
          "base_uri": "https://localhost:8080/"
        },
        "id": "TBpIDhikvxwb",
        "outputId": "0e77511b-7c79-4811-e46b-fd630def853c"
      },
      "outputs": [
        {
          "name": "stderr",
          "output_type": "stream",
          "text": [
            "/home/aditya/.local/lib/python3.10/site-packages/sklearn/neighbors/_classification.py:215: DataConversionWarning: A column-vector y was passed when a 1d array was expected. Please change the shape of y to (n_samples,), for example using ravel().\n",
            "  return self._fit(X, y)\n"
          ]
        }
      ],
      "source": [
        "model_8=knn.fit(train_X,train_Y)"
      ]
    },
    {
      "cell_type": "code",
      "execution_count": 69,
      "metadata": {
        "id": "gasnilimwcL6"
      },
      "outputs": [],
      "source": [
        "knn_predict=model_8.predict(test_X)"
      ]
    },
    {
      "cell_type": "code",
      "execution_count": 70,
      "metadata": {
        "colab": {
          "base_uri": "https://localhost:8080/"
        },
        "id": "u7oatCfEwd-g",
        "outputId": "6c0a3990-3d6f-423b-d761-05918cea2266"
      },
      "outputs": [
        {
          "data": {
            "text/plain": [
              "0.8926741031052156"
            ]
          },
          "execution_count": 70,
          "metadata": {},
          "output_type": "execute_result"
        }
      ],
      "source": [
        "accuracy_score(test_Y,knn_predict)"
      ]
    },
    {
      "cell_type": "code",
      "execution_count": 71,
      "metadata": {
        "colab": {
          "base_uri": "https://localhost:8080/"
        },
        "id": "45XfYobewsKF",
        "outputId": "4ffd5d5d-c2a8-4f06-a942-426a60ad36c4"
      },
      "outputs": [
        {
          "name": "stdout",
          "output_type": "stream",
          "text": [
            "              precision    recall  f1-score   support\n",
            "\n",
            "          -1       0.87      0.88      0.88      1432\n",
            "           1       0.91      0.90      0.90      1885\n",
            "\n",
            "    accuracy                           0.89      3317\n",
            "   macro avg       0.89      0.89      0.89      3317\n",
            "weighted avg       0.89      0.89      0.89      3317\n",
            "\n"
          ]
        }
      ],
      "source": [
        "print(classification_report(knn_predict,test_Y))"
      ]
    },
    {
      "cell_type": "markdown",
      "metadata": {
        "id": "sUx4uZQewzdz"
      },
      "source": [
        "Now lets apply Decision Tree Classifier for this new model which is having only two features"
      ]
    },
    {
      "cell_type": "code",
      "execution_count": 72,
      "metadata": {
        "id": "bsnK_Yfyw_hS"
      },
      "outputs": [],
      "source": [
        "model_9=dtree.fit(train_X,train_Y)"
      ]
    },
    {
      "cell_type": "code",
      "execution_count": 73,
      "metadata": {
        "id": "L-sfCJw8xMJ-"
      },
      "outputs": [],
      "source": [
        "dtree_predict=model_9.predict(test_X)"
      ]
    },
    {
      "cell_type": "code",
      "execution_count": 74,
      "metadata": {
        "colab": {
          "base_uri": "https://localhost:8080/"
        },
        "id": "lFxZPwcOxULO",
        "outputId": "160188e5-1e29-45f7-c339-2679a24d6d60"
      },
      "outputs": [
        {
          "data": {
            "text/plain": [
              "0.9014169430208019"
            ]
          },
          "execution_count": 74,
          "metadata": {},
          "output_type": "execute_result"
        }
      ],
      "source": [
        "accuracy_score(test_Y,dtree_predict)"
      ]
    },
    {
      "cell_type": "code",
      "execution_count": 75,
      "metadata": {
        "colab": {
          "base_uri": "https://localhost:8080/"
        },
        "id": "Dj2BP2rLxZE4",
        "outputId": "fef54efb-0384-4c4b-bf06-42b957312ea2"
      },
      "outputs": [
        {
          "name": "stdout",
          "output_type": "stream",
          "text": [
            "              precision    recall  f1-score   support\n",
            "\n",
            "          -1       0.86      0.91      0.88      1369\n",
            "           1       0.94      0.89      0.91      1948\n",
            "\n",
            "    accuracy                           0.90      3317\n",
            "   macro avg       0.90      0.90      0.90      3317\n",
            "weighted avg       0.90      0.90      0.90      3317\n",
            "\n"
          ]
        }
      ],
      "source": [
        "print(classification_report(dtree_predict,test_Y))"
      ]
    },
    {
      "cell_type": "markdown",
      "metadata": {
        "id": "V5NaUKAbxes5"
      },
      "source": [
        "Now lets apply Random Forest Classifier for this new model which is having only two features"
      ]
    },
    {
      "cell_type": "code",
      "execution_count": 76,
      "metadata": {
        "colab": {
          "base_uri": "https://localhost:8080/"
        },
        "id": "FNKCgUwoxlMh",
        "outputId": "4c3953d0-9179-4b24-f563-0c69b5899195"
      },
      "outputs": [
        {
          "name": "stderr",
          "output_type": "stream",
          "text": [
            "/tmp/ipykernel_61672/1275659928.py:1: DataConversionWarning: A column-vector y was passed when a 1d array was expected. Please change the shape of y to (n_samples,), for example using ravel().\n",
            "  model_10=rfc.fit(train_X,train_Y)\n"
          ]
        }
      ],
      "source": [
        "model_10=rfc.fit(train_X,train_Y)"
      ]
    },
    {
      "cell_type": "code",
      "execution_count": 77,
      "metadata": {
        "id": "r506vb-vyLuf"
      },
      "outputs": [],
      "source": [
        "rfc_predict=model_10.predict(test_X)"
      ]
    },
    {
      "cell_type": "code",
      "execution_count": 78,
      "metadata": {
        "colab": {
          "base_uri": "https://localhost:8080/"
        },
        "id": "C4PvNkOeyRfP",
        "outputId": "89ce12b6-96fa-41a1-ca77-dbb33c3735bf"
      },
      "outputs": [
        {
          "data": {
            "text/plain": [
              "0.9014169430208019"
            ]
          },
          "execution_count": 78,
          "metadata": {},
          "output_type": "execute_result"
        }
      ],
      "source": [
        "accuracy_score(test_Y,rfc_predict)"
      ]
    },
    {
      "cell_type": "code",
      "execution_count": 79,
      "metadata": {
        "colab": {
          "base_uri": "https://localhost:8080/"
        },
        "id": "ujbFVDhpyrCI",
        "outputId": "24eb1b5b-3377-4f70-a121-b0fe979dc14c"
      },
      "outputs": [
        {
          "name": "stdout",
          "output_type": "stream",
          "text": [
            "              precision    recall  f1-score   support\n",
            "\n",
            "          -1       0.86      0.91      0.88      1369\n",
            "           1       0.94      0.89      0.91      1948\n",
            "\n",
            "    accuracy                           0.90      3317\n",
            "   macro avg       0.90      0.90      0.90      3317\n",
            "weighted avg       0.90      0.90      0.90      3317\n",
            "\n"
          ]
        }
      ],
      "source": [
        "print(classification_report(rfc_predict,test_Y))"
      ]
    },
    {
      "cell_type": "markdown",
      "metadata": {
        "id": "2HO0_HjKyxF-"
      },
      "source": [
        "Lets Apply SVM and check its accuracy"
      ]
    },
    {
      "cell_type": "code",
      "execution_count": 80,
      "metadata": {
        "colab": {
          "base_uri": "https://localhost:8080/"
        },
        "id": "mDdxzASeyu-a",
        "outputId": "df402a98-bc97-4e40-87a6-b78267d5826b"
      },
      "outputs": [
        {
          "name": "stderr",
          "output_type": "stream",
          "text": [
            "/home/aditya/.local/lib/python3.10/site-packages/sklearn/utils/validation.py:1143: DataConversionWarning: A column-vector y was passed when a 1d array was expected. Please change the shape of y to (n_samples, ), for example using ravel().\n",
            "  y = column_or_1d(y, warn=True)\n"
          ]
        }
      ],
      "source": [
        "model_11=svc.fit(train_X,train_Y)"
      ]
    },
    {
      "cell_type": "code",
      "execution_count": 81,
      "metadata": {
        "id": "-7a-rdYv76CD"
      },
      "outputs": [],
      "source": [
        "svc_predict=model_11.predict(test_X)"
      ]
    },
    {
      "cell_type": "code",
      "execution_count": 82,
      "metadata": {
        "colab": {
          "base_uri": "https://localhost:8080/"
        },
        "id": "D8HxhBDT7_cT",
        "outputId": "6415ac76-2e00-48aa-d7ce-58ae9aab3a77"
      },
      "outputs": [
        {
          "data": {
            "text/plain": [
              "0.9011154657823335"
            ]
          },
          "execution_count": 82,
          "metadata": {},
          "output_type": "execute_result"
        }
      ],
      "source": [
        "accuracy_score(test_Y,svc_predict)"
      ]
    },
    {
      "cell_type": "code",
      "execution_count": 83,
      "metadata": {
        "colab": {
          "base_uri": "https://localhost:8080/"
        },
        "id": "C5u5M7N98FyH",
        "outputId": "565fc982-4039-47ef-9818-31e4a0220071"
      },
      "outputs": [
        {
          "name": "stdout",
          "output_type": "stream",
          "text": [
            "              precision    recall  f1-score   support\n",
            "\n",
            "          -1       0.86      0.91      0.88      1368\n",
            "           1       0.94      0.89      0.91      1949\n",
            "\n",
            "    accuracy                           0.90      3317\n",
            "   macro avg       0.90      0.90      0.90      3317\n",
            "weighted avg       0.90      0.90      0.90      3317\n",
            "\n"
          ]
        }
      ],
      "source": [
        "print(classification_report(svc_predict,test_Y))"
      ]
    },
    {
      "cell_type": "markdown",
      "metadata": {
        "id": "dBZFV3zQ8Muw"
      },
      "source": [
        "Lets apply AdaBoost Classifier and check its accuracy"
      ]
    },
    {
      "cell_type": "code",
      "execution_count": 84,
      "metadata": {
        "colab": {
          "base_uri": "https://localhost:8080/"
        },
        "id": "BCCZBsWv8LqX",
        "outputId": "ff98dc5f-465f-4054-d2d7-c3f6732dfe26"
      },
      "outputs": [
        {
          "name": "stderr",
          "output_type": "stream",
          "text": [
            "/home/aditya/.local/lib/python3.10/site-packages/sklearn/utils/validation.py:1143: DataConversionWarning: A column-vector y was passed when a 1d array was expected. Please change the shape of y to (n_samples, ), for example using ravel().\n",
            "  y = column_or_1d(y, warn=True)\n"
          ]
        }
      ],
      "source": [
        "model_12=adc.fit(train_X,train_Y)"
      ]
    },
    {
      "cell_type": "code",
      "execution_count": 85,
      "metadata": {
        "id": "6XUZEPyY8d2B"
      },
      "outputs": [],
      "source": [
        "adc_predict=model_12.predict(test_X)"
      ]
    },
    {
      "cell_type": "code",
      "execution_count": 86,
      "metadata": {
        "colab": {
          "base_uri": "https://localhost:8080/"
        },
        "id": "vyYWqpms8lR6",
        "outputId": "05eb3438-615e-4e73-dcf2-2bb97b54a1f3"
      },
      "outputs": [
        {
          "data": {
            "text/plain": [
              "0.9011154657823335"
            ]
          },
          "execution_count": 86,
          "metadata": {},
          "output_type": "execute_result"
        }
      ],
      "source": [
        "accuracy_score(test_Y,adc_predict)"
      ]
    },
    {
      "cell_type": "code",
      "execution_count": 87,
      "metadata": {
        "colab": {
          "base_uri": "https://localhost:8080/"
        },
        "id": "NsvGm7GN8qlM",
        "outputId": "697ec41c-936c-409b-cc59-3b9b3ab92987"
      },
      "outputs": [
        {
          "name": "stdout",
          "output_type": "stream",
          "text": [
            "              precision    recall  f1-score   support\n",
            "\n",
            "          -1       0.86      0.91      0.88      1368\n",
            "           1       0.94      0.89      0.91      1949\n",
            "\n",
            "    accuracy                           0.90      3317\n",
            "   macro avg       0.90      0.90      0.90      3317\n",
            "weighted avg       0.90      0.90      0.90      3317\n",
            "\n"
          ]
        }
      ],
      "source": [
        "print(classification_report(adc_predict,test_Y))"
      ]
    },
    {
      "cell_type": "code",
      "execution_count": 88,
      "metadata": {
        "colab": {
          "base_uri": "https://localhost:8080/"
        },
        "id": "z2RhBk498vfY",
        "outputId": "dfe04935-4dea-4589-cba5-bf337cb12eb4"
      },
      "outputs": [
        {
          "name": "stdout",
          "output_type": "stream",
          "text": [
            "Logistic Regression Accuracy: 0.9011154657823335\n",
            "K-Nearest Neighbour Accuracy: 0.8926741031052156\n",
            "Decision Tree Classifier Accuracy: 0.9014169430208019\n",
            "Random Forest Classifier Accuracy: 0.9014169430208019\n",
            "support Vector Machine Accuracy: 0.9472414832680133\n",
            "Adaboost Classifier Accuracy: 0.9011154657823335\n"
          ]
        }
      ],
      "source": [
        "print('Logistic Regression Accuracy:',accuracy_score(logreg_predict,test_Y))\n",
        "print('K-Nearest Neighbour Accuracy:',accuracy_score(knn_predict,test_Y))\n",
        "print('Decision Tree Classifier Accuracy:',accuracy_score(dtree_predict,test_Y))\n",
        "print('Random Forest Classifier Accuracy:',accuracy_score(rfc_predict,test_Y))\n",
        "print('support Vector Machine Accuracy:',accuracy_score(svm_predict,test_Y))\n",
        "print('Adaboost Classifier Accuracy:',accuracy_score(adc_predict,test_Y))\n"
      ]
    },
    {
      "cell_type": "code",
      "execution_count": 89,
      "metadata": {
        "id": "5nbpd82q91dl"
      },
      "outputs": [],
      "source": [
        "features = np.array([[-1,1,1,-1,-1,-1]])"
      ]
    },
    {
      "cell_type": "code",
      "execution_count": 90,
      "metadata": {
        "colab": {
          "background_save": true,
          "base_uri": "https://localhost:8080/"
        },
        "id": "Vs69lecTAlp0",
        "outputId": "5c11d5ac-d6c0-4c74-94ee-042eceb74617"
      },
      "outputs": [
        {
          "name": "stdout",
          "output_type": "stream",
          "text": [
            "Prediction: [-1]\n"
          ]
        },
        {
          "name": "stderr",
          "output_type": "stream",
          "text": [
            "/home/aditya/.local/lib/python3.10/site-packages/sklearn/base.py:420: UserWarning: X does not have valid feature names, but SVC was fitted with feature names\n",
            "  warnings.warn(\n"
          ]
        }
      ],
      "source": [
        "prediction = model_11.predict(features)\n",
        "print(\"Prediction: {}\".format(prediction))"
      ]
    },
    {
      "cell_type": "code",
      "execution_count": 91,
      "metadata": {},
      "outputs": [],
      "source": [
        "import pickle\n",
        "pickle.dump(model_11, open('models/final_prediction.pickle', 'wb'))"
      ]
    }
  ],
  "metadata": {
    "colab": {
      "provenance": []
    },
    "kernelspec": {
      "display_name": "Python 3",
      "language": "python",
      "name": "python3"
    },
    "language_info": {
      "codemirror_mode": {
        "name": "ipython",
        "version": 3
      },
      "file_extension": ".py",
      "mimetype": "text/x-python",
      "name": "python",
      "nbconvert_exporter": "python",
      "pygments_lexer": "ipython3",
      "version": "3.10.11"
    }
  },
  "nbformat": 4,
  "nbformat_minor": 0
}
